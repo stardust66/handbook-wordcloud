{
 "cells": [
  {
   "cell_type": "code",
   "execution_count": 4,
   "metadata": {},
   "outputs": [],
   "source": [
    "import matplotlib.pyplot as plt\n",
    "from PIL import Image\n",
    "import numpy as np\n",
    "import wordcloud"
   ]
  },
  {
   "cell_type": "code",
   "execution_count": 12,
   "metadata": {},
   "outputs": [],
   "source": [
    "shakespeare = open(\"./shakespeare.txt\").read()"
   ]
  },
  {
   "cell_type": "code",
   "execution_count": 13,
   "metadata": {},
   "outputs": [],
   "source": [
    "stopwords = set(wordcloud.STOPWORDS)\n",
    "stopwords.update([\"thy\", \"will\", \"thou\", \"thee\", \"hath\"])"
   ]
  },
  {
   "cell_type": "code",
   "execution_count": 16,
   "metadata": {},
   "outputs": [],
   "source": [
    "wc = wordcloud.WordCloud(stopwords=stopwords, width=2000, height=800).generate(shakespeare)"
   ]
  },
  {
   "cell_type": "code",
   "execution_count": 17,
   "metadata": {},
   "outputs": [],
   "source": [
    "wc.to_image().save(\"shakespeare_cloud.png\")"
   ]
  },
  {
   "cell_type": "code",
   "execution_count": 7,
   "metadata": {},
   "outputs": [],
   "source": [
    "sps_stopwords = set(wordcloud.STOPWORDS)\n",
    "sps_stopwords.update([\"St\", \"Paul\", \"SPS\", \"student\", \"school\", \"students\"])"
   ]
  },
  {
   "cell_type": "code",
   "execution_count": 17,
   "metadata": {},
   "outputs": [],
   "source": [
    "crest = np.array(Image.open(\"sps_crest.jpg\"))\n",
    "crest_color_func = wordcloud.ImageColorGenerator(crest)"
   ]
  },
  {
   "cell_type": "code",
   "execution_count": 20,
   "metadata": {},
   "outputs": [],
   "source": [
    "handbook = open(\"./spshandbook.txt\").read()\n",
    "handbook_wc = wordcloud.WordCloud(stopwords=sps_stopwords, mask=crest,\n",
    "                                  color_func=crest_color_func,\n",
    "                                  background_color=\"white\").generate(handbook)"
   ]
  },
  {
   "cell_type": "code",
   "execution_count": 21,
   "metadata": {},
   "outputs": [],
   "source": [
    "handbook_wc.to_image().save(\"handbook_cloud_crest.png\")"
   ]
  },
  {
   "cell_type": "code",
   "execution_count": null,
   "metadata": {},
   "outputs": [],
   "source": []
  }
 ],
 "metadata": {
  "kernelspec": {
   "display_name": "Python 3",
   "language": "python",
   "name": "python3"
  },
  "language_info": {
   "codemirror_mode": {
    "name": "ipython",
    "version": 3
   },
   "file_extension": ".py",
   "mimetype": "text/x-python",
   "name": "python",
   "nbconvert_exporter": "python",
   "pygments_lexer": "ipython3",
   "version": "3.6.5"
  }
 },
 "nbformat": 4,
 "nbformat_minor": 2
}
